{
 "cells": [
  {
   "cell_type": "markdown",
   "metadata": {},
   "source": [
    "# Exploratory Analysis with Pandas\n",
    "\n",
    "Dataset: https://www.kaggle.com/andrewmvd/udemy-courses"
   ]
  },
  {
   "cell_type": "code",
   "execution_count": 2,
   "metadata": {},
   "outputs": [],
   "source": [
    "import pandas as pd\n",
    "import seaborn as sns"
   ]
  },
  {
   "cell_type": "code",
   "execution_count": 10,
   "metadata": {},
   "outputs": [
    {
     "data": {
      "text/html": [
       "<div>\n",
       "<style scoped>\n",
       "    .dataframe tbody tr th:only-of-type {\n",
       "        vertical-align: middle;\n",
       "    }\n",
       "\n",
       "    .dataframe tbody tr th {\n",
       "        vertical-align: top;\n",
       "    }\n",
       "\n",
       "    .dataframe thead th {\n",
       "        text-align: right;\n",
       "    }\n",
       "</style>\n",
       "<table border=\"1\" class=\"dataframe\">\n",
       "  <thead>\n",
       "    <tr style=\"text-align: right;\">\n",
       "      <th></th>\n",
       "      <th>course_id</th>\n",
       "      <th>course_title</th>\n",
       "      <th>url</th>\n",
       "      <th>is_paid</th>\n",
       "      <th>price</th>\n",
       "      <th>num_subscribers</th>\n",
       "      <th>num_reviews</th>\n",
       "      <th>num_lectures</th>\n",
       "      <th>level</th>\n",
       "      <th>content_duration</th>\n",
       "      <th>published_timestamp</th>\n",
       "      <th>subject</th>\n",
       "    </tr>\n",
       "  </thead>\n",
       "  <tbody>\n",
       "    <tr>\n",
       "      <th>0</th>\n",
       "      <td>1070968</td>\n",
       "      <td>Ultimate Investment Banking Course</td>\n",
       "      <td>https://www.udemy.com/ultimate-investment-bank...</td>\n",
       "      <td>True</td>\n",
       "      <td>200</td>\n",
       "      <td>2147</td>\n",
       "      <td>23</td>\n",
       "      <td>51</td>\n",
       "      <td>All Levels</td>\n",
       "      <td>1.5</td>\n",
       "      <td>2017-01-18 20:58:58+00:00</td>\n",
       "      <td>Business Finance</td>\n",
       "    </tr>\n",
       "    <tr>\n",
       "      <th>1</th>\n",
       "      <td>1113822</td>\n",
       "      <td>Complete GST Course &amp; Certification - Grow You...</td>\n",
       "      <td>https://www.udemy.com/goods-and-services-tax/</td>\n",
       "      <td>True</td>\n",
       "      <td>75</td>\n",
       "      <td>2792</td>\n",
       "      <td>923</td>\n",
       "      <td>274</td>\n",
       "      <td>All Levels</td>\n",
       "      <td>39.0</td>\n",
       "      <td>2017-03-09 16:34:20+00:00</td>\n",
       "      <td>Business Finance</td>\n",
       "    </tr>\n",
       "    <tr>\n",
       "      <th>2</th>\n",
       "      <td>1006314</td>\n",
       "      <td>Financial Modeling for Business Analysts and C...</td>\n",
       "      <td>https://www.udemy.com/financial-modeling-for-b...</td>\n",
       "      <td>True</td>\n",
       "      <td>45</td>\n",
       "      <td>2174</td>\n",
       "      <td>74</td>\n",
       "      <td>51</td>\n",
       "      <td>Intermediate Level</td>\n",
       "      <td>2.5</td>\n",
       "      <td>2016-12-19 19:26:30+00:00</td>\n",
       "      <td>Business Finance</td>\n",
       "    </tr>\n",
       "    <tr>\n",
       "      <th>3</th>\n",
       "      <td>1210588</td>\n",
       "      <td>Beginner to Pro - Financial Analysis in Excel ...</td>\n",
       "      <td>https://www.udemy.com/complete-excel-finance-c...</td>\n",
       "      <td>True</td>\n",
       "      <td>95</td>\n",
       "      <td>2451</td>\n",
       "      <td>11</td>\n",
       "      <td>36</td>\n",
       "      <td>All Levels</td>\n",
       "      <td>3.0</td>\n",
       "      <td>2017-05-30 20:07:24+00:00</td>\n",
       "      <td>Business Finance</td>\n",
       "    </tr>\n",
       "    <tr>\n",
       "      <th>4</th>\n",
       "      <td>1011058</td>\n",
       "      <td>How To Maximize Your Profits Trading Options</td>\n",
       "      <td>https://www.udemy.com/how-to-maximize-your-pro...</td>\n",
       "      <td>True</td>\n",
       "      <td>200</td>\n",
       "      <td>1276</td>\n",
       "      <td>45</td>\n",
       "      <td>26</td>\n",
       "      <td>Intermediate Level</td>\n",
       "      <td>2.0</td>\n",
       "      <td>2016-12-13 14:57:18+00:00</td>\n",
       "      <td>Business Finance</td>\n",
       "    </tr>\n",
       "    <tr>\n",
       "      <th>...</th>\n",
       "      <td>...</td>\n",
       "      <td>...</td>\n",
       "      <td>...</td>\n",
       "      <td>...</td>\n",
       "      <td>...</td>\n",
       "      <td>...</td>\n",
       "      <td>...</td>\n",
       "      <td>...</td>\n",
       "      <td>...</td>\n",
       "      <td>...</td>\n",
       "      <td>...</td>\n",
       "      <td>...</td>\n",
       "    </tr>\n",
       "    <tr>\n",
       "      <th>3673</th>\n",
       "      <td>775618</td>\n",
       "      <td>Learn jQuery from Scratch - Master of JavaScri...</td>\n",
       "      <td>https://www.udemy.com/easy-jquery-for-beginner...</td>\n",
       "      <td>True</td>\n",
       "      <td>100</td>\n",
       "      <td>1040</td>\n",
       "      <td>14</td>\n",
       "      <td>21</td>\n",
       "      <td>All Levels</td>\n",
       "      <td>2.0</td>\n",
       "      <td>2016-06-14 17:36:46+00:00</td>\n",
       "      <td>Web Development</td>\n",
       "    </tr>\n",
       "    <tr>\n",
       "      <th>3674</th>\n",
       "      <td>1088178</td>\n",
       "      <td>How To Design A WordPress Website With No Codi...</td>\n",
       "      <td>https://www.udemy.com/how-to-make-a-wordpress-...</td>\n",
       "      <td>True</td>\n",
       "      <td>25</td>\n",
       "      <td>306</td>\n",
       "      <td>3</td>\n",
       "      <td>42</td>\n",
       "      <td>Beginner Level</td>\n",
       "      <td>3.5</td>\n",
       "      <td>2017-03-10 22:24:30+00:00</td>\n",
       "      <td>Web Development</td>\n",
       "    </tr>\n",
       "    <tr>\n",
       "      <th>3675</th>\n",
       "      <td>635248</td>\n",
       "      <td>Learn and Build using Polymer</td>\n",
       "      <td>https://www.udemy.com/learn-and-build-using-po...</td>\n",
       "      <td>True</td>\n",
       "      <td>40</td>\n",
       "      <td>513</td>\n",
       "      <td>169</td>\n",
       "      <td>48</td>\n",
       "      <td>All Levels</td>\n",
       "      <td>3.5</td>\n",
       "      <td>2015-12-30 16:41:42+00:00</td>\n",
       "      <td>Web Development</td>\n",
       "    </tr>\n",
       "    <tr>\n",
       "      <th>3676</th>\n",
       "      <td>905096</td>\n",
       "      <td>CSS Animations: Create Amazing Effects on Your...</td>\n",
       "      <td>https://www.udemy.com/css-animations-create-am...</td>\n",
       "      <td>True</td>\n",
       "      <td>50</td>\n",
       "      <td>300</td>\n",
       "      <td>31</td>\n",
       "      <td>38</td>\n",
       "      <td>All Levels</td>\n",
       "      <td>3.0</td>\n",
       "      <td>2016-08-11 19:06:15+00:00</td>\n",
       "      <td>Web Development</td>\n",
       "    </tr>\n",
       "    <tr>\n",
       "      <th>3677</th>\n",
       "      <td>297602</td>\n",
       "      <td>Using MODX CMS to Build Websites: A Beginner's...</td>\n",
       "      <td>https://www.udemy.com/using-modx-cms-to-build-...</td>\n",
       "      <td>True</td>\n",
       "      <td>45</td>\n",
       "      <td>901</td>\n",
       "      <td>36</td>\n",
       "      <td>20</td>\n",
       "      <td>Beginner Level</td>\n",
       "      <td>2.0</td>\n",
       "      <td>2014-09-28 19:51:11+00:00</td>\n",
       "      <td>Web Development</td>\n",
       "    </tr>\n",
       "  </tbody>\n",
       "</table>\n",
       "<p>3678 rows × 12 columns</p>\n",
       "</div>"
      ],
      "text/plain": [
       "      course_id                                       course_title  \\\n",
       "0       1070968                 Ultimate Investment Banking Course   \n",
       "1       1113822  Complete GST Course & Certification - Grow You...   \n",
       "2       1006314  Financial Modeling for Business Analysts and C...   \n",
       "3       1210588  Beginner to Pro - Financial Analysis in Excel ...   \n",
       "4       1011058       How To Maximize Your Profits Trading Options   \n",
       "...         ...                                                ...   \n",
       "3673     775618  Learn jQuery from Scratch - Master of JavaScri...   \n",
       "3674    1088178  How To Design A WordPress Website With No Codi...   \n",
       "3675     635248                      Learn and Build using Polymer   \n",
       "3676     905096  CSS Animations: Create Amazing Effects on Your...   \n",
       "3677     297602  Using MODX CMS to Build Websites: A Beginner's...   \n",
       "\n",
       "                                                    url  is_paid  price  \\\n",
       "0     https://www.udemy.com/ultimate-investment-bank...     True    200   \n",
       "1         https://www.udemy.com/goods-and-services-tax/     True     75   \n",
       "2     https://www.udemy.com/financial-modeling-for-b...     True     45   \n",
       "3     https://www.udemy.com/complete-excel-finance-c...     True     95   \n",
       "4     https://www.udemy.com/how-to-maximize-your-pro...     True    200   \n",
       "...                                                 ...      ...    ...   \n",
       "3673  https://www.udemy.com/easy-jquery-for-beginner...     True    100   \n",
       "3674  https://www.udemy.com/how-to-make-a-wordpress-...     True     25   \n",
       "3675  https://www.udemy.com/learn-and-build-using-po...     True     40   \n",
       "3676  https://www.udemy.com/css-animations-create-am...     True     50   \n",
       "3677  https://www.udemy.com/using-modx-cms-to-build-...     True     45   \n",
       "\n",
       "      num_subscribers  num_reviews  num_lectures               level  \\\n",
       "0                2147           23            51          All Levels   \n",
       "1                2792          923           274          All Levels   \n",
       "2                2174           74            51  Intermediate Level   \n",
       "3                2451           11            36          All Levels   \n",
       "4                1276           45            26  Intermediate Level   \n",
       "...               ...          ...           ...                 ...   \n",
       "3673             1040           14            21          All Levels   \n",
       "3674              306            3            42      Beginner Level   \n",
       "3675              513          169            48          All Levels   \n",
       "3676              300           31            38          All Levels   \n",
       "3677              901           36            20      Beginner Level   \n",
       "\n",
       "      content_duration       published_timestamp           subject  \n",
       "0                  1.5 2017-01-18 20:58:58+00:00  Business Finance  \n",
       "1                 39.0 2017-03-09 16:34:20+00:00  Business Finance  \n",
       "2                  2.5 2016-12-19 19:26:30+00:00  Business Finance  \n",
       "3                  3.0 2017-05-30 20:07:24+00:00  Business Finance  \n",
       "4                  2.0 2016-12-13 14:57:18+00:00  Business Finance  \n",
       "...                ...                       ...               ...  \n",
       "3673               2.0 2016-06-14 17:36:46+00:00   Web Development  \n",
       "3674               3.5 2017-03-10 22:24:30+00:00   Web Development  \n",
       "3675               3.5 2015-12-30 16:41:42+00:00   Web Development  \n",
       "3676               3.0 2016-08-11 19:06:15+00:00   Web Development  \n",
       "3677               2.0 2014-09-28 19:51:11+00:00   Web Development  \n",
       "\n",
       "[3678 rows x 12 columns]"
      ]
     },
     "execution_count": 10,
     "metadata": {},
     "output_type": "execute_result"
    }
   ],
   "source": [
    "data = pd.read_csv('Udemy_Courses.csv', parse_dates=['published_timestamp'])\n",
    "data"
   ]
  },
  {
   "cell_type": "code",
   "execution_count": 11,
   "metadata": {},
   "outputs": [
    {
     "data": {
      "text/plain": [
       "course_id                            int64\n",
       "course_title                        object\n",
       "url                                 object\n",
       "is_paid                               bool\n",
       "price                                int64\n",
       "num_subscribers                      int64\n",
       "num_reviews                          int64\n",
       "num_lectures                         int64\n",
       "level                               object\n",
       "content_duration                   float64\n",
       "published_timestamp    datetime64[ns, UTC]\n",
       "subject                             object\n",
       "dtype: object"
      ]
     },
     "execution_count": 11,
     "metadata": {},
     "output_type": "execute_result"
    }
   ],
   "source": [
    "data.dtypes"
   ]
  },
  {
   "cell_type": "markdown",
   "metadata": {},
   "source": [
    "1) Display Top 10 Rows of the Dataset\n"
   ]
  },
  {
   "cell_type": "code",
   "execution_count": 15,
   "metadata": {},
   "outputs": [
    {
     "data": {
      "text/html": [
       "<div>\n",
       "<style scoped>\n",
       "    .dataframe tbody tr th:only-of-type {\n",
       "        vertical-align: middle;\n",
       "    }\n",
       "\n",
       "    .dataframe tbody tr th {\n",
       "        vertical-align: top;\n",
       "    }\n",
       "\n",
       "    .dataframe thead th {\n",
       "        text-align: right;\n",
       "    }\n",
       "</style>\n",
       "<table border=\"1\" class=\"dataframe\">\n",
       "  <thead>\n",
       "    <tr style=\"text-align: right;\">\n",
       "      <th></th>\n",
       "      <th>course_id</th>\n",
       "      <th>course_title</th>\n",
       "      <th>url</th>\n",
       "      <th>is_paid</th>\n",
       "      <th>price</th>\n",
       "      <th>num_subscribers</th>\n",
       "      <th>num_reviews</th>\n",
       "      <th>num_lectures</th>\n",
       "      <th>level</th>\n",
       "      <th>content_duration</th>\n",
       "      <th>published_timestamp</th>\n",
       "      <th>subject</th>\n",
       "    </tr>\n",
       "  </thead>\n",
       "  <tbody>\n",
       "    <tr>\n",
       "      <th>0</th>\n",
       "      <td>1070968</td>\n",
       "      <td>Ultimate Investment Banking Course</td>\n",
       "      <td>https://www.udemy.com/ultimate-investment-bank...</td>\n",
       "      <td>True</td>\n",
       "      <td>200</td>\n",
       "      <td>2147</td>\n",
       "      <td>23</td>\n",
       "      <td>51</td>\n",
       "      <td>All Levels</td>\n",
       "      <td>1.5</td>\n",
       "      <td>2017-01-18 20:58:58+00:00</td>\n",
       "      <td>Business Finance</td>\n",
       "    </tr>\n",
       "    <tr>\n",
       "      <th>1</th>\n",
       "      <td>1113822</td>\n",
       "      <td>Complete GST Course &amp; Certification - Grow You...</td>\n",
       "      <td>https://www.udemy.com/goods-and-services-tax/</td>\n",
       "      <td>True</td>\n",
       "      <td>75</td>\n",
       "      <td>2792</td>\n",
       "      <td>923</td>\n",
       "      <td>274</td>\n",
       "      <td>All Levels</td>\n",
       "      <td>39.0</td>\n",
       "      <td>2017-03-09 16:34:20+00:00</td>\n",
       "      <td>Business Finance</td>\n",
       "    </tr>\n",
       "    <tr>\n",
       "      <th>2</th>\n",
       "      <td>1006314</td>\n",
       "      <td>Financial Modeling for Business Analysts and C...</td>\n",
       "      <td>https://www.udemy.com/financial-modeling-for-b...</td>\n",
       "      <td>True</td>\n",
       "      <td>45</td>\n",
       "      <td>2174</td>\n",
       "      <td>74</td>\n",
       "      <td>51</td>\n",
       "      <td>Intermediate Level</td>\n",
       "      <td>2.5</td>\n",
       "      <td>2016-12-19 19:26:30+00:00</td>\n",
       "      <td>Business Finance</td>\n",
       "    </tr>\n",
       "    <tr>\n",
       "      <th>3</th>\n",
       "      <td>1210588</td>\n",
       "      <td>Beginner to Pro - Financial Analysis in Excel ...</td>\n",
       "      <td>https://www.udemy.com/complete-excel-finance-c...</td>\n",
       "      <td>True</td>\n",
       "      <td>95</td>\n",
       "      <td>2451</td>\n",
       "      <td>11</td>\n",
       "      <td>36</td>\n",
       "      <td>All Levels</td>\n",
       "      <td>3.0</td>\n",
       "      <td>2017-05-30 20:07:24+00:00</td>\n",
       "      <td>Business Finance</td>\n",
       "    </tr>\n",
       "    <tr>\n",
       "      <th>4</th>\n",
       "      <td>1011058</td>\n",
       "      <td>How To Maximize Your Profits Trading Options</td>\n",
       "      <td>https://www.udemy.com/how-to-maximize-your-pro...</td>\n",
       "      <td>True</td>\n",
       "      <td>200</td>\n",
       "      <td>1276</td>\n",
       "      <td>45</td>\n",
       "      <td>26</td>\n",
       "      <td>Intermediate Level</td>\n",
       "      <td>2.0</td>\n",
       "      <td>2016-12-13 14:57:18+00:00</td>\n",
       "      <td>Business Finance</td>\n",
       "    </tr>\n",
       "    <tr>\n",
       "      <th>5</th>\n",
       "      <td>192870</td>\n",
       "      <td>Trading Penny Stocks: A Guide for All Levels I...</td>\n",
       "      <td>https://www.udemy.com/trading-penny-stocks-a-g...</td>\n",
       "      <td>True</td>\n",
       "      <td>150</td>\n",
       "      <td>9221</td>\n",
       "      <td>138</td>\n",
       "      <td>25</td>\n",
       "      <td>All Levels</td>\n",
       "      <td>3.0</td>\n",
       "      <td>2014-05-02 15:13:30+00:00</td>\n",
       "      <td>Business Finance</td>\n",
       "    </tr>\n",
       "    <tr>\n",
       "      <th>6</th>\n",
       "      <td>739964</td>\n",
       "      <td>Investing And Trading For Beginners: Mastering...</td>\n",
       "      <td>https://www.udemy.com/investing-and-trading-fo...</td>\n",
       "      <td>True</td>\n",
       "      <td>65</td>\n",
       "      <td>1540</td>\n",
       "      <td>178</td>\n",
       "      <td>26</td>\n",
       "      <td>Beginner Level</td>\n",
       "      <td>1.0</td>\n",
       "      <td>2016-02-21 18:23:12+00:00</td>\n",
       "      <td>Business Finance</td>\n",
       "    </tr>\n",
       "    <tr>\n",
       "      <th>7</th>\n",
       "      <td>403100</td>\n",
       "      <td>Trading Stock Chart Patterns For Immediate, Ex...</td>\n",
       "      <td>https://www.udemy.com/trading-chart-patterns-f...</td>\n",
       "      <td>True</td>\n",
       "      <td>95</td>\n",
       "      <td>2917</td>\n",
       "      <td>148</td>\n",
       "      <td>23</td>\n",
       "      <td>All Levels</td>\n",
       "      <td>2.5</td>\n",
       "      <td>2015-01-30 22:13:03+00:00</td>\n",
       "      <td>Business Finance</td>\n",
       "    </tr>\n",
       "    <tr>\n",
       "      <th>8</th>\n",
       "      <td>476268</td>\n",
       "      <td>Options Trading 3 : Advanced Stock Profit and ...</td>\n",
       "      <td>https://www.udemy.com/day-trading-stock-option...</td>\n",
       "      <td>True</td>\n",
       "      <td>195</td>\n",
       "      <td>5172</td>\n",
       "      <td>34</td>\n",
       "      <td>38</td>\n",
       "      <td>Expert Level</td>\n",
       "      <td>2.5</td>\n",
       "      <td>2015-05-28 00:14:03+00:00</td>\n",
       "      <td>Business Finance</td>\n",
       "    </tr>\n",
       "    <tr>\n",
       "      <th>9</th>\n",
       "      <td>1167710</td>\n",
       "      <td>The Only Investment Strategy You Need For Your...</td>\n",
       "      <td>https://www.udemy.com/the-only-investment-stra...</td>\n",
       "      <td>True</td>\n",
       "      <td>200</td>\n",
       "      <td>827</td>\n",
       "      <td>14</td>\n",
       "      <td>15</td>\n",
       "      <td>All Levels</td>\n",
       "      <td>1.0</td>\n",
       "      <td>2017-04-18 18:13:32+00:00</td>\n",
       "      <td>Business Finance</td>\n",
       "    </tr>\n",
       "  </tbody>\n",
       "</table>\n",
       "</div>"
      ],
      "text/plain": [
       "   course_id                                       course_title  \\\n",
       "0    1070968                 Ultimate Investment Banking Course   \n",
       "1    1113822  Complete GST Course & Certification - Grow You...   \n",
       "2    1006314  Financial Modeling for Business Analysts and C...   \n",
       "3    1210588  Beginner to Pro - Financial Analysis in Excel ...   \n",
       "4    1011058       How To Maximize Your Profits Trading Options   \n",
       "5     192870  Trading Penny Stocks: A Guide for All Levels I...   \n",
       "6     739964  Investing And Trading For Beginners: Mastering...   \n",
       "7     403100  Trading Stock Chart Patterns For Immediate, Ex...   \n",
       "8     476268  Options Trading 3 : Advanced Stock Profit and ...   \n",
       "9    1167710  The Only Investment Strategy You Need For Your...   \n",
       "\n",
       "                                                 url  is_paid  price  \\\n",
       "0  https://www.udemy.com/ultimate-investment-bank...     True    200   \n",
       "1      https://www.udemy.com/goods-and-services-tax/     True     75   \n",
       "2  https://www.udemy.com/financial-modeling-for-b...     True     45   \n",
       "3  https://www.udemy.com/complete-excel-finance-c...     True     95   \n",
       "4  https://www.udemy.com/how-to-maximize-your-pro...     True    200   \n",
       "5  https://www.udemy.com/trading-penny-stocks-a-g...     True    150   \n",
       "6  https://www.udemy.com/investing-and-trading-fo...     True     65   \n",
       "7  https://www.udemy.com/trading-chart-patterns-f...     True     95   \n",
       "8  https://www.udemy.com/day-trading-stock-option...     True    195   \n",
       "9  https://www.udemy.com/the-only-investment-stra...     True    200   \n",
       "\n",
       "   num_subscribers  num_reviews  num_lectures               level  \\\n",
       "0             2147           23            51          All Levels   \n",
       "1             2792          923           274          All Levels   \n",
       "2             2174           74            51  Intermediate Level   \n",
       "3             2451           11            36          All Levels   \n",
       "4             1276           45            26  Intermediate Level   \n",
       "5             9221          138            25          All Levels   \n",
       "6             1540          178            26      Beginner Level   \n",
       "7             2917          148            23          All Levels   \n",
       "8             5172           34            38        Expert Level   \n",
       "9              827           14            15          All Levels   \n",
       "\n",
       "   content_duration       published_timestamp           subject  \n",
       "0               1.5 2017-01-18 20:58:58+00:00  Business Finance  \n",
       "1              39.0 2017-03-09 16:34:20+00:00  Business Finance  \n",
       "2               2.5 2016-12-19 19:26:30+00:00  Business Finance  \n",
       "3               3.0 2017-05-30 20:07:24+00:00  Business Finance  \n",
       "4               2.0 2016-12-13 14:57:18+00:00  Business Finance  \n",
       "5               3.0 2014-05-02 15:13:30+00:00  Business Finance  \n",
       "6               1.0 2016-02-21 18:23:12+00:00  Business Finance  \n",
       "7               2.5 2015-01-30 22:13:03+00:00  Business Finance  \n",
       "8               2.5 2015-05-28 00:14:03+00:00  Business Finance  \n",
       "9               1.0 2017-04-18 18:13:32+00:00  Business Finance  "
      ]
     },
     "execution_count": 15,
     "metadata": {},
     "output_type": "execute_result"
    }
   ],
   "source": [
    "data.head(10)"
   ]
  },
  {
   "cell_type": "markdown",
   "metadata": {},
   "source": [
    "2) Display the Last 5 Rows of the Dataset"
   ]
  },
  {
   "cell_type": "code",
   "execution_count": 17,
   "metadata": {},
   "outputs": [
    {
     "data": {
      "text/html": [
       "<div>\n",
       "<style scoped>\n",
       "    .dataframe tbody tr th:only-of-type {\n",
       "        vertical-align: middle;\n",
       "    }\n",
       "\n",
       "    .dataframe tbody tr th {\n",
       "        vertical-align: top;\n",
       "    }\n",
       "\n",
       "    .dataframe thead th {\n",
       "        text-align: right;\n",
       "    }\n",
       "</style>\n",
       "<table border=\"1\" class=\"dataframe\">\n",
       "  <thead>\n",
       "    <tr style=\"text-align: right;\">\n",
       "      <th></th>\n",
       "      <th>course_id</th>\n",
       "      <th>course_title</th>\n",
       "      <th>url</th>\n",
       "      <th>is_paid</th>\n",
       "      <th>price</th>\n",
       "      <th>num_subscribers</th>\n",
       "      <th>num_reviews</th>\n",
       "      <th>num_lectures</th>\n",
       "      <th>level</th>\n",
       "      <th>content_duration</th>\n",
       "      <th>published_timestamp</th>\n",
       "      <th>subject</th>\n",
       "    </tr>\n",
       "  </thead>\n",
       "  <tbody>\n",
       "    <tr>\n",
       "      <th>3673</th>\n",
       "      <td>775618</td>\n",
       "      <td>Learn jQuery from Scratch - Master of JavaScri...</td>\n",
       "      <td>https://www.udemy.com/easy-jquery-for-beginner...</td>\n",
       "      <td>True</td>\n",
       "      <td>100</td>\n",
       "      <td>1040</td>\n",
       "      <td>14</td>\n",
       "      <td>21</td>\n",
       "      <td>All Levels</td>\n",
       "      <td>2.0</td>\n",
       "      <td>2016-06-14 17:36:46+00:00</td>\n",
       "      <td>Web Development</td>\n",
       "    </tr>\n",
       "    <tr>\n",
       "      <th>3674</th>\n",
       "      <td>1088178</td>\n",
       "      <td>How To Design A WordPress Website With No Codi...</td>\n",
       "      <td>https://www.udemy.com/how-to-make-a-wordpress-...</td>\n",
       "      <td>True</td>\n",
       "      <td>25</td>\n",
       "      <td>306</td>\n",
       "      <td>3</td>\n",
       "      <td>42</td>\n",
       "      <td>Beginner Level</td>\n",
       "      <td>3.5</td>\n",
       "      <td>2017-03-10 22:24:30+00:00</td>\n",
       "      <td>Web Development</td>\n",
       "    </tr>\n",
       "    <tr>\n",
       "      <th>3675</th>\n",
       "      <td>635248</td>\n",
       "      <td>Learn and Build using Polymer</td>\n",
       "      <td>https://www.udemy.com/learn-and-build-using-po...</td>\n",
       "      <td>True</td>\n",
       "      <td>40</td>\n",
       "      <td>513</td>\n",
       "      <td>169</td>\n",
       "      <td>48</td>\n",
       "      <td>All Levels</td>\n",
       "      <td>3.5</td>\n",
       "      <td>2015-12-30 16:41:42+00:00</td>\n",
       "      <td>Web Development</td>\n",
       "    </tr>\n",
       "    <tr>\n",
       "      <th>3676</th>\n",
       "      <td>905096</td>\n",
       "      <td>CSS Animations: Create Amazing Effects on Your...</td>\n",
       "      <td>https://www.udemy.com/css-animations-create-am...</td>\n",
       "      <td>True</td>\n",
       "      <td>50</td>\n",
       "      <td>300</td>\n",
       "      <td>31</td>\n",
       "      <td>38</td>\n",
       "      <td>All Levels</td>\n",
       "      <td>3.0</td>\n",
       "      <td>2016-08-11 19:06:15+00:00</td>\n",
       "      <td>Web Development</td>\n",
       "    </tr>\n",
       "    <tr>\n",
       "      <th>3677</th>\n",
       "      <td>297602</td>\n",
       "      <td>Using MODX CMS to Build Websites: A Beginner's...</td>\n",
       "      <td>https://www.udemy.com/using-modx-cms-to-build-...</td>\n",
       "      <td>True</td>\n",
       "      <td>45</td>\n",
       "      <td>901</td>\n",
       "      <td>36</td>\n",
       "      <td>20</td>\n",
       "      <td>Beginner Level</td>\n",
       "      <td>2.0</td>\n",
       "      <td>2014-09-28 19:51:11+00:00</td>\n",
       "      <td>Web Development</td>\n",
       "    </tr>\n",
       "  </tbody>\n",
       "</table>\n",
       "</div>"
      ],
      "text/plain": [
       "      course_id                                       course_title  \\\n",
       "3673     775618  Learn jQuery from Scratch - Master of JavaScri...   \n",
       "3674    1088178  How To Design A WordPress Website With No Codi...   \n",
       "3675     635248                      Learn and Build using Polymer   \n",
       "3676     905096  CSS Animations: Create Amazing Effects on Your...   \n",
       "3677     297602  Using MODX CMS to Build Websites: A Beginner's...   \n",
       "\n",
       "                                                    url  is_paid  price  \\\n",
       "3673  https://www.udemy.com/easy-jquery-for-beginner...     True    100   \n",
       "3674  https://www.udemy.com/how-to-make-a-wordpress-...     True     25   \n",
       "3675  https://www.udemy.com/learn-and-build-using-po...     True     40   \n",
       "3676  https://www.udemy.com/css-animations-create-am...     True     50   \n",
       "3677  https://www.udemy.com/using-modx-cms-to-build-...     True     45   \n",
       "\n",
       "      num_subscribers  num_reviews  num_lectures           level  \\\n",
       "3673             1040           14            21      All Levels   \n",
       "3674              306            3            42  Beginner Level   \n",
       "3675              513          169            48      All Levels   \n",
       "3676              300           31            38      All Levels   \n",
       "3677              901           36            20  Beginner Level   \n",
       "\n",
       "      content_duration       published_timestamp          subject  \n",
       "3673               2.0 2016-06-14 17:36:46+00:00  Web Development  \n",
       "3674               3.5 2017-03-10 22:24:30+00:00  Web Development  \n",
       "3675               3.5 2015-12-30 16:41:42+00:00  Web Development  \n",
       "3676               3.0 2016-08-11 19:06:15+00:00  Web Development  \n",
       "3677               2.0 2014-09-28 19:51:11+00:00  Web Development  "
      ]
     },
     "execution_count": 17,
     "metadata": {},
     "output_type": "execute_result"
    }
   ],
   "source": [
    "data.tail(5)"
   ]
  },
  {
   "cell_type": "markdown",
   "metadata": {},
   "source": [
    "3) Find the Shape of the Dataset"
   ]
  },
  {
   "cell_type": "code",
   "execution_count": 21,
   "metadata": {},
   "outputs": [
    {
     "data": {
      "text/plain": [
       "(3678, 12)"
      ]
     },
     "execution_count": 21,
     "metadata": {},
     "output_type": "execute_result"
    }
   ],
   "source": [
    "data.shape"
   ]
  },
  {
   "cell_type": "code",
   "execution_count": 22,
   "metadata": {},
   "outputs": [
    {
     "name": "stdout",
     "output_type": "stream",
     "text": [
      "Number of Rows 3678\n",
      "Number of Columns 12\n"
     ]
    }
   ],
   "source": [
    "print('Number of Rows',data.shape[0])\n",
    "print('Number of Columns',data.shape[1])"
   ]
  },
  {
   "cell_type": "markdown",
   "metadata": {},
   "source": [
    "4) Getting Information about our Dataset"
   ]
  },
  {
   "cell_type": "code",
   "execution_count": 24,
   "metadata": {},
   "outputs": [
    {
     "name": "stdout",
     "output_type": "stream",
     "text": [
      "<class 'pandas.core.frame.DataFrame'>\n",
      "RangeIndex: 3678 entries, 0 to 3677\n",
      "Data columns (total 12 columns):\n",
      " #   Column               Non-Null Count  Dtype              \n",
      "---  ------               --------------  -----              \n",
      " 0   course_id            3678 non-null   int64              \n",
      " 1   course_title         3678 non-null   object             \n",
      " 2   url                  3678 non-null   object             \n",
      " 3   is_paid              3678 non-null   bool               \n",
      " 4   price                3678 non-null   int64              \n",
      " 5   num_subscribers      3678 non-null   int64              \n",
      " 6   num_reviews          3678 non-null   int64              \n",
      " 7   num_lectures         3678 non-null   int64              \n",
      " 8   level                3678 non-null   object             \n",
      " 9   content_duration     3678 non-null   float64            \n",
      " 10  published_timestamp  3678 non-null   datetime64[ns, UTC]\n",
      " 11  subject              3678 non-null   object             \n",
      "dtypes: bool(1), datetime64[ns, UTC](1), float64(1), int64(5), object(4)\n",
      "memory usage: 319.8+ KB\n"
     ]
    }
   ],
   "source": [
    "data.info()"
   ]
  },
  {
   "cell_type": "markdown",
   "metadata": {},
   "source": [
    "5) Check Null Values In The Dataset"
   ]
  },
  {
   "cell_type": "code",
   "execution_count": 27,
   "metadata": {},
   "outputs": [
    {
     "name": "stdout",
     "output_type": "stream",
     "text": [
      "Any Null Values False\n"
     ]
    }
   ],
   "source": [
    "print('Any Null Values', data.isnull().values.any())"
   ]
  },
  {
   "cell_type": "markdown",
   "metadata": {},
   "source": [
    "6) Check For Duplicate Data and Drop Them"
   ]
  },
  {
   "cell_type": "code",
   "execution_count": 29,
   "metadata": {},
   "outputs": [
    {
     "name": "stdout",
     "output_type": "stream",
     "text": [
      "Are there any duplicated data? True\n"
     ]
    }
   ],
   "source": [
    "d = data.duplicated().any()\n",
    "print(\"Are there any duplicated data?\", d)"
   ]
  },
  {
   "cell_type": "code",
   "execution_count": 31,
   "metadata": {},
   "outputs": [],
   "source": [
    "data=data.drop_duplicates()"
   ]
  },
  {
   "cell_type": "code",
   "execution_count": 32,
   "metadata": {},
   "outputs": [
    {
     "name": "stdout",
     "output_type": "stream",
     "text": [
      "Are there any duplicated data? False\n"
     ]
    }
   ],
   "source": [
    "d = data.duplicated().any()\n",
    "print(\"Are there any duplicated data?\", d)"
   ]
  },
  {
   "cell_type": "markdown",
   "metadata": {},
   "source": [
    "7) Find Out Number of Courses Per Subjects"
   ]
  },
  {
   "cell_type": "code",
   "execution_count": 41,
   "metadata": {},
   "outputs": [
    {
     "data": {
      "text/plain": [
       "Web Development        1199\n",
       "Business Finance       1191\n",
       "Musical Instruments     680\n",
       "Graphic Design          602\n",
       "Name: subject, dtype: int64"
      ]
     },
     "execution_count": 41,
     "metadata": {},
     "output_type": "execute_result"
    }
   ],
   "source": [
    "data['subject'].value_counts()"
   ]
  },
  {
   "cell_type": "code",
   "execution_count": 43,
   "metadata": {},
   "outputs": [],
   "source": [
    "import matplotlib.pyplot as plt"
   ]
  },
  {
   "cell_type": "code",
   "execution_count": 47,
   "metadata": {},
   "outputs": [
    {
     "name": "stderr",
     "output_type": "stream",
     "text": [
      "C:\\Users\\zachb\\anaconda3\\lib\\site-packages\\seaborn\\_decorators.py:36: FutureWarning: Pass the following variable as a keyword arg: x. From version 0.12, the only valid positional argument will be `data`, and passing other arguments without an explicit keyword will result in an error or misinterpretation.\n",
      "  warnings.warn(\n"
     ]
    },
    {
     "data": {
      "image/png": "[encoded data removed]",
      "text/plain": [
       "<Figure size 432x288 with 1 Axes>"
      ]
     },
     "metadata": {
      "needs_background": "light"
     },
     "output_type": "display_data"
    }
   ],
   "source": [
    "#COUNT PLOT\n",
    "sns.countplot(data['subject'])\n",
    "plt.xlabel('Subjects', fontsize = 14)\n",
    "plt.ylabel('Number of Courses per Subject')\n",
    "plt.xticks(rotation=60)\n",
    "plt.show()"
   ]
  },
  {
   "cell_type": "markdown",
   "metadata": {},
   "source": [
    "8) For Which Levels, Udemy Courses Providing The Courses"
   ]
  },
  {
   "cell_type": "code",
   "execution_count": 49,
   "metadata": {},
   "outputs": [
    {
     "data": {
      "text/plain": [
       "Index(['course_id', 'course_title', 'url', 'is_paid', 'price',\n",
       "       'num_subscribers', 'num_reviews', 'num_lectures', 'level',\n",
       "       'content_duration', 'published_timestamp', 'subject'],\n",
       "      dtype='object')"
      ]
     },
     "execution_count": 49,
     "metadata": {},
     "output_type": "execute_result"
    }
   ],
   "source": [
    "data.columns"
   ]
  },
  {
   "cell_type": "code",
   "execution_count": 51,
   "metadata": {},
   "outputs": [
    {
     "data": {
      "text/plain": [
       "All Levels            1925\n",
       "Beginner Level        1268\n",
       "Intermediate Level     421\n",
       "Expert Level            58\n",
       "Name: level, dtype: int64"
      ]
     },
     "execution_count": 51,
     "metadata": {},
     "output_type": "execute_result"
    }
   ],
   "source": [
    "data['level'].value_counts()"
   ]
  },
  {
   "cell_type": "code",
   "execution_count": 53,
   "metadata": {},
   "outputs": [
    {
     "name": "stderr",
     "output_type": "stream",
     "text": [
      "C:\\Users\\zachb\\anaconda3\\lib\\site-packages\\seaborn\\_decorators.py:36: FutureWarning: Pass the following variable as a keyword arg: x. From version 0.12, the only valid positional argument will be `data`, and passing other arguments without an explicit keyword will result in an error or misinterpretation.\n",
      "  warnings.warn(\n"
     ]
    },
    {
     "data": {
      "image/png": "[encoded data removed]",
      "text/plain": [
       "<Figure size 432x288 with 1 Axes>"
      ]
     },
     "metadata": {
      "needs_background": "light"
     },
     "output_type": "display_data"
    }
   ],
   "source": [
    "#COUNT PLOT\n",
    "sns.countplot(data['level'])\n",
    "plt.xlabel('Level', fontsize = 14)\n",
    "plt.ylabel('Number of Courses per Level')\n",
    "plt.xticks(rotation=60)\n",
    "plt.show()"
   ]
  },
  {
   "cell_type": "markdown",
   "metadata": {},
   "source": [
    "9) Display The Count of Paid and Free Courses "
   ]
  },
  {
   "cell_type": "code",
   "execution_count": 56,
   "metadata": {},
   "outputs": [
    {
     "data": {
      "text/plain": [
       "True     3362\n",
       "False     310\n",
       "Name: is_paid, dtype: int64"
      ]
     },
     "execution_count": 56,
     "metadata": {},
     "output_type": "execute_result"
    }
   ],
   "source": [
    "data['is_paid'].value_counts()"
   ]
  },
  {
   "cell_type": "code",
   "execution_count": 58,
   "metadata": {},
   "outputs": [
    {
     "name": "stderr",
     "output_type": "stream",
     "text": [
      "C:\\Users\\zachb\\anaconda3\\lib\\site-packages\\seaborn\\_decorators.py:36: FutureWarning: Pass the following variable as a keyword arg: x. From version 0.12, the only valid positional argument will be `data`, and passing other arguments without an explicit keyword will result in an error or misinterpretation.\n",
      "  warnings.warn(\n"
     ]
    },
    {
     "data": {
      "image/png": "[encoded data removed]",
      "text/plain": [
       "<Figure size 432x288 with 1 Axes>"
      ]
     },
     "metadata": {
      "needs_background": "light"
     },
     "output_type": "display_data"
    }
   ],
   "source": [
    "#COUNT PLOT\n",
    "sns.countplot(data['is_paid'])\n",
    "plt.xlabel('Do I have to pay for the course?', fontsize = 14)\n",
    "plt.ylabel('Number of Free vs. Paid Courses')\n",
    "plt.xticks(rotation=60)\n",
    "plt.show()"
   ]
  },
  {
   "cell_type": "markdown",
   "metadata": {},
   "source": [
    "10) Which Course Has More Lectures (Free or Paid)?"
   ]
  },
  {
   "cell_type": "code",
   "execution_count": 60,
   "metadata": {
    "scrolled": true
   },
   "outputs": [
    {
     "data": {
      "text/html": [
       "<div>\n",
       "<style scoped>\n",
       "    .dataframe tbody tr th:only-of-type {\n",
       "        vertical-align: middle;\n",
       "    }\n",
       "\n",
       "    .dataframe tbody tr th {\n",
       "        vertical-align: top;\n",
       "    }\n",
       "\n",
       "    .dataframe thead th {\n",
       "        text-align: right;\n",
       "    }\n",
       "</style>\n",
       "<table border=\"1\" class=\"dataframe\">\n",
       "  <thead>\n",
       "    <tr style=\"text-align: right;\">\n",
       "      <th></th>\n",
       "      <th>course_id</th>\n",
       "      <th>price</th>\n",
       "      <th>num_subscribers</th>\n",
       "      <th>num_reviews</th>\n",
       "      <th>num_lectures</th>\n",
       "      <th>content_duration</th>\n",
       "    </tr>\n",
       "    <tr>\n",
       "      <th>is_paid</th>\n",
       "      <th></th>\n",
       "      <th></th>\n",
       "      <th></th>\n",
       "      <th></th>\n",
       "      <th></th>\n",
       "      <th></th>\n",
       "    </tr>\n",
       "  </thead>\n",
       "  <tbody>\n",
       "    <tr>\n",
       "      <th>False</th>\n",
       "      <td>691446.970968</td>\n",
       "      <td>0.000000</td>\n",
       "      <td>11533.951613</td>\n",
       "      <td>425.929032</td>\n",
       "      <td>21.416129</td>\n",
       "      <td>2.210753</td>\n",
       "    </tr>\n",
       "    <tr>\n",
       "      <th>True</th>\n",
       "      <td>674463.946163</td>\n",
       "      <td>72.198096</td>\n",
       "      <td>2421.270077</td>\n",
       "      <td>131.516359</td>\n",
       "      <td>41.866746</td>\n",
       "      <td>4.271584</td>\n",
       "    </tr>\n",
       "  </tbody>\n",
       "</table>\n",
       "</div>"
      ],
      "text/plain": [
       "             course_id      price  num_subscribers  num_reviews  num_lectures  \\\n",
       "is_paid                                                                         \n",
       "False    691446.970968   0.000000     11533.951613   425.929032     21.416129   \n",
       "True     674463.946163  72.198096      2421.270077   131.516359     41.866746   \n",
       "\n",
       "         content_duration  \n",
       "is_paid                    \n",
       "False            2.210753  \n",
       "True             4.271584  "
      ]
     },
     "execution_count": 60,
     "metadata": {},
     "output_type": "execute_result"
    }
   ],
   "source": [
    "data.groupby(['is_paid']).mean()\n",
    "#Paid"
   ]
  },
  {
   "cell_type": "markdown",
   "metadata": {},
   "source": [
    "11) Which Courses Have A Higher Number of Subscribers Free or Paid?"
   ]
  },
  {
   "cell_type": "code",
   "execution_count": 71,
   "metadata": {},
   "outputs": [
    {
     "data": {
      "text/html": [
       "<div>\n",
       "<style scoped>\n",
       "    .dataframe tbody tr th:only-of-type {\n",
       "        vertical-align: middle;\n",
       "    }\n",
       "\n",
       "    .dataframe tbody tr th {\n",
       "        vertical-align: top;\n",
       "    }\n",
       "\n",
       "    .dataframe thead th {\n",
       "        text-align: right;\n",
       "    }\n",
       "</style>\n",
       "<table border=\"1\" class=\"dataframe\">\n",
       "  <thead>\n",
       "    <tr style=\"text-align: right;\">\n",
       "      <th></th>\n",
       "      <th>course_id</th>\n",
       "      <th>price</th>\n",
       "      <th>num_subscribers</th>\n",
       "      <th>num_reviews</th>\n",
       "      <th>num_lectures</th>\n",
       "      <th>content_duration</th>\n",
       "    </tr>\n",
       "    <tr>\n",
       "      <th>is_paid</th>\n",
       "      <th></th>\n",
       "      <th></th>\n",
       "      <th></th>\n",
       "      <th></th>\n",
       "      <th></th>\n",
       "      <th></th>\n",
       "    </tr>\n",
       "  </thead>\n",
       "  <tbody>\n",
       "    <tr>\n",
       "      <th>False</th>\n",
       "      <td>691446.970968</td>\n",
       "      <td>0.000000</td>\n",
       "      <td>11533.951613</td>\n",
       "      <td>425.929032</td>\n",
       "      <td>21.416129</td>\n",
       "      <td>2.210753</td>\n",
       "    </tr>\n",
       "    <tr>\n",
       "      <th>True</th>\n",
       "      <td>674463.946163</td>\n",
       "      <td>72.198096</td>\n",
       "      <td>2421.270077</td>\n",
       "      <td>131.516359</td>\n",
       "      <td>41.866746</td>\n",
       "      <td>4.271584</td>\n",
       "    </tr>\n",
       "  </tbody>\n",
       "</table>\n",
       "</div>"
      ],
      "text/plain": [
       "             course_id      price  num_subscribers  num_reviews  num_lectures  \\\n",
       "is_paid                                                                         \n",
       "False    691446.970968   0.000000     11533.951613   425.929032     21.416129   \n",
       "True     674463.946163  72.198096      2421.270077   131.516359     41.866746   \n",
       "\n",
       "         content_duration  \n",
       "is_paid                    \n",
       "False            2.210753  \n",
       "True             4.271584  "
      ]
     },
     "execution_count": 71,
     "metadata": {},
     "output_type": "execute_result"
    }
   ],
   "source": [
    "data.groupby(['is_paid']).mean() \n",
    "#Free Courses"
   ]
  },
  {
   "cell_type": "code",
   "execution_count": 72,
   "metadata": {},
   "outputs": [
    {
     "data": {
      "text/plain": [
       "<AxesSubplot:xlabel='is_paid', ylabel='num_subscribers'>"
      ]
     },
     "execution_count": 72,
     "metadata": {},
     "output_type": "execute_result"
    },
    {
     "data": {
      "image/png": "[encoded data removed]",
      "text/plain": [
       "<Figure size 432x288 with 1 Axes>"
      ]
     },
     "metadata": {
      "needs_background": "light"
     },
     "output_type": "display_data"
    }
   ],
   "source": [
    "sns.barplot(x='is_paid',y='num_subscribers',data=data)"
   ]
  },
  {
   "cell_type": "markdown",
   "metadata": {},
   "source": [
    "12) Which Level Has The Highest Number of Subscribers?"
   ]
  },
  {
   "cell_type": "code",
   "execution_count": 62,
   "metadata": {},
   "outputs": [
    {
     "data": {
      "text/html": [
       "<div>\n",
       "<style scoped>\n",
       "    .dataframe tbody tr th:only-of-type {\n",
       "        vertical-align: middle;\n",
       "    }\n",
       "\n",
       "    .dataframe tbody tr th {\n",
       "        vertical-align: top;\n",
       "    }\n",
       "\n",
       "    .dataframe thead th {\n",
       "        text-align: right;\n",
       "    }\n",
       "</style>\n",
       "<table border=\"1\" class=\"dataframe\">\n",
       "  <thead>\n",
       "    <tr style=\"text-align: right;\">\n",
       "      <th></th>\n",
       "      <th>course_id</th>\n",
       "      <th>is_paid</th>\n",
       "      <th>price</th>\n",
       "      <th>num_subscribers</th>\n",
       "      <th>num_reviews</th>\n",
       "      <th>num_lectures</th>\n",
       "      <th>content_duration</th>\n",
       "    </tr>\n",
       "    <tr>\n",
       "      <th>level</th>\n",
       "      <th></th>\n",
       "      <th></th>\n",
       "      <th></th>\n",
       "      <th></th>\n",
       "      <th></th>\n",
       "      <th></th>\n",
       "      <th></th>\n",
       "    </tr>\n",
       "  </thead>\n",
       "  <tbody>\n",
       "    <tr>\n",
       "      <th>All Levels</th>\n",
       "      <td>649372.988571</td>\n",
       "      <td>0.936623</td>\n",
       "      <td>73.090909</td>\n",
       "      <td>3569.761558</td>\n",
       "      <td>209.751688</td>\n",
       "      <td>46.030649</td>\n",
       "      <td>4.874000</td>\n",
       "    </tr>\n",
       "    <tr>\n",
       "      <th>Beginner Level</th>\n",
       "      <td>699269.822555</td>\n",
       "      <td>0.875394</td>\n",
       "      <td>55.737382</td>\n",
       "      <td>3195.459779</td>\n",
       "      <td>101.794164</td>\n",
       "      <td>33.022082</td>\n",
       "      <td>3.094401</td>\n",
       "    </tr>\n",
       "    <tr>\n",
       "      <th>Expert Level</th>\n",
       "      <td>705633.517241</td>\n",
       "      <td>1.000000</td>\n",
       "      <td>91.120690</td>\n",
       "      <td>865.448276</td>\n",
       "      <td>40.224138</td>\n",
       "      <td>30.775862</td>\n",
       "      <td>2.905460</td>\n",
       "    </tr>\n",
       "    <tr>\n",
       "      <th>Intermediate Level</th>\n",
       "      <td>722689.942993</td>\n",
       "      <td>0.928741</td>\n",
       "      <td>61.923990</td>\n",
       "      <td>1762.482185</td>\n",
       "      <td>92.674584</td>\n",
       "      <td>35.935867</td>\n",
       "      <td>3.733333</td>\n",
       "    </tr>\n",
       "  </tbody>\n",
       "</table>\n",
       "</div>"
      ],
      "text/plain": [
       "                        course_id   is_paid      price  num_subscribers  \\\n",
       "level                                                                     \n",
       "All Levels          649372.988571  0.936623  73.090909      3569.761558   \n",
       "Beginner Level      699269.822555  0.875394  55.737382      3195.459779   \n",
       "Expert Level        705633.517241  1.000000  91.120690       865.448276   \n",
       "Intermediate Level  722689.942993  0.928741  61.923990      1762.482185   \n",
       "\n",
       "                    num_reviews  num_lectures  content_duration  \n",
       "level                                                            \n",
       "All Levels           209.751688     46.030649          4.874000  \n",
       "Beginner Level       101.794164     33.022082          3.094401  \n",
       "Expert Level          40.224138     30.775862          2.905460  \n",
       "Intermediate Level    92.674584     35.935867          3.733333  "
      ]
     },
     "execution_count": 62,
     "metadata": {},
     "output_type": "execute_result"
    }
   ],
   "source": [
    "data.groupby(['level']).mean()\n",
    "#Beginner Level"
   ]
  },
  {
   "cell_type": "markdown",
   "metadata": {},
   "source": [
    "13) Find Most Popular Course Title"
   ]
  },
  {
   "cell_type": "code",
   "execution_count": 75,
   "metadata": {},
   "outputs": [
    {
     "data": {
      "text/html": [
       "<div>\n",
       "<style scoped>\n",
       "    .dataframe tbody tr th:only-of-type {\n",
       "        vertical-align: middle;\n",
       "    }\n",
       "\n",
       "    .dataframe tbody tr th {\n",
       "        vertical-align: top;\n",
       "    }\n",
       "\n",
       "    .dataframe thead th {\n",
       "        text-align: right;\n",
       "    }\n",
       "</style>\n",
       "<table border=\"1\" class=\"dataframe\">\n",
       "  <thead>\n",
       "    <tr style=\"text-align: right;\">\n",
       "      <th></th>\n",
       "      <th>course_id</th>\n",
       "      <th>course_title</th>\n",
       "      <th>url</th>\n",
       "      <th>is_paid</th>\n",
       "      <th>price</th>\n",
       "      <th>num_subscribers</th>\n",
       "      <th>num_reviews</th>\n",
       "      <th>num_lectures</th>\n",
       "      <th>level</th>\n",
       "      <th>content_duration</th>\n",
       "      <th>published_timestamp</th>\n",
       "      <th>subject</th>\n",
       "    </tr>\n",
       "  </thead>\n",
       "  <tbody>\n",
       "    <tr>\n",
       "      <th>2827</th>\n",
       "      <td>41295</td>\n",
       "      <td>Learn HTML5 Programming From Scratch</td>\n",
       "      <td>https://www.udemy.com/learn-html5-programming-...</td>\n",
       "      <td>False</td>\n",
       "      <td>0</td>\n",
       "      <td>268923</td>\n",
       "      <td>8629</td>\n",
       "      <td>45</td>\n",
       "      <td>All Levels</td>\n",
       "      <td>10.5</td>\n",
       "      <td>2013-02-14 07:03:41+00:00</td>\n",
       "      <td>Web Development</td>\n",
       "    </tr>\n",
       "  </tbody>\n",
       "</table>\n",
       "</div>"
      ],
      "text/plain": [
       "      course_id                          course_title  \\\n",
       "2827      41295  Learn HTML5 Programming From Scratch   \n",
       "\n",
       "                                                    url  is_paid  price  \\\n",
       "2827  https://www.udemy.com/learn-html5-programming-...    False      0   \n",
       "\n",
       "      num_subscribers  num_reviews  num_lectures       level  \\\n",
       "2827           268923         8629            45  All Levels   \n",
       "\n",
       "      content_duration       published_timestamp          subject  \n",
       "2827              10.5 2013-02-14 07:03:41+00:00  Web Development  "
      ]
     },
     "execution_count": 75,
     "metadata": {},
     "output_type": "execute_result"
    }
   ],
   "source": [
    "data[data['num_subscribers'].max()==data['num_subscribers']]"
   ]
  },
  {
   "cell_type": "markdown",
   "metadata": {},
   "source": [
    "14) Display 10 Most Popular Courses As Per Number of Subscribers"
   ]
  },
  {
   "cell_type": "code",
   "execution_count": 81,
   "metadata": {},
   "outputs": [
    {
     "data": {
      "text/plain": [
       "2827    Learn HTML5 Programming From Scratch\n",
       "Name: course_title, dtype: object"
      ]
     },
     "execution_count": 81,
     "metadata": {},
     "output_type": "execute_result"
    }
   ],
   "source": [
    "data[data['num_subscribers'].max()==data['num_subscribers']]['course_title']"
   ]
  },
  {
   "cell_type": "code",
   "execution_count": 94,
   "metadata": {},
   "outputs": [],
   "source": [
    "top_10=data.sort_values(by='num_subscribers',ascending=False).head(10)"
   ]
  },
  {
   "cell_type": "code",
   "execution_count": 95,
   "metadata": {},
   "outputs": [
    {
     "data": {
      "text/html": [
       "<div>\n",
       "<style scoped>\n",
       "    .dataframe tbody tr th:only-of-type {\n",
       "        vertical-align: middle;\n",
       "    }\n",
       "\n",
       "    .dataframe tbody tr th {\n",
       "        vertical-align: top;\n",
       "    }\n",
       "\n",
       "    .dataframe thead th {\n",
       "        text-align: right;\n",
       "    }\n",
       "</style>\n",
       "<table border=\"1\" class=\"dataframe\">\n",
       "  <thead>\n",
       "    <tr style=\"text-align: right;\">\n",
       "      <th></th>\n",
       "      <th>course_id</th>\n",
       "      <th>course_title</th>\n",
       "      <th>url</th>\n",
       "      <th>is_paid</th>\n",
       "      <th>price</th>\n",
       "      <th>num_subscribers</th>\n",
       "      <th>num_reviews</th>\n",
       "      <th>num_lectures</th>\n",
       "      <th>level</th>\n",
       "      <th>content_duration</th>\n",
       "      <th>published_timestamp</th>\n",
       "      <th>subject</th>\n",
       "    </tr>\n",
       "  </thead>\n",
       "  <tbody>\n",
       "    <tr>\n",
       "      <th>2827</th>\n",
       "      <td>41295</td>\n",
       "      <td>Learn HTML5 Programming From Scratch</td>\n",
       "      <td>https://www.udemy.com/learn-html5-programming-...</td>\n",
       "      <td>False</td>\n",
       "      <td>0</td>\n",
       "      <td>268923</td>\n",
       "      <td>8629</td>\n",
       "      <td>45</td>\n",
       "      <td>All Levels</td>\n",
       "      <td>10.5</td>\n",
       "      <td>2013-02-14 07:03:41+00:00</td>\n",
       "      <td>Web Development</td>\n",
       "    </tr>\n",
       "    <tr>\n",
       "      <th>3032</th>\n",
       "      <td>59014</td>\n",
       "      <td>Coding for Entrepreneurs Basic</td>\n",
       "      <td>https://www.udemy.com/coding-for-entrepreneurs...</td>\n",
       "      <td>False</td>\n",
       "      <td>0</td>\n",
       "      <td>161029</td>\n",
       "      <td>279</td>\n",
       "      <td>27</td>\n",
       "      <td>Beginner Level</td>\n",
       "      <td>3.5</td>\n",
       "      <td>2013-06-09 15:51:55+00:00</td>\n",
       "      <td>Web Development</td>\n",
       "    </tr>\n",
       "    <tr>\n",
       "      <th>3230</th>\n",
       "      <td>625204</td>\n",
       "      <td>The Web Developer Bootcamp</td>\n",
       "      <td>https://www.udemy.com/the-web-developer-bootcamp/</td>\n",
       "      <td>True</td>\n",
       "      <td>200</td>\n",
       "      <td>121584</td>\n",
       "      <td>27445</td>\n",
       "      <td>342</td>\n",
       "      <td>All Levels</td>\n",
       "      <td>43.0</td>\n",
       "      <td>2015-11-02 21:13:27+00:00</td>\n",
       "      <td>Web Development</td>\n",
       "    </tr>\n",
       "    <tr>\n",
       "      <th>2783</th>\n",
       "      <td>173548</td>\n",
       "      <td>Build Your First Website in 1 Week with HTML5 ...</td>\n",
       "      <td>https://www.udemy.com/build-your-first-website...</td>\n",
       "      <td>False</td>\n",
       "      <td>0</td>\n",
       "      <td>120291</td>\n",
       "      <td>5924</td>\n",
       "      <td>30</td>\n",
       "      <td>Beginner Level</td>\n",
       "      <td>3.0</td>\n",
       "      <td>2014-04-08 16:21:30+00:00</td>\n",
       "      <td>Web Development</td>\n",
       "    </tr>\n",
       "    <tr>\n",
       "      <th>3232</th>\n",
       "      <td>764164</td>\n",
       "      <td>The Complete Web Developer Course 2.0</td>\n",
       "      <td>https://www.udemy.com/the-complete-web-develop...</td>\n",
       "      <td>True</td>\n",
       "      <td>200</td>\n",
       "      <td>114512</td>\n",
       "      <td>22412</td>\n",
       "      <td>304</td>\n",
       "      <td>All Levels</td>\n",
       "      <td>30.5</td>\n",
       "      <td>2016-03-08 22:28:36+00:00</td>\n",
       "      <td>Web Development</td>\n",
       "    </tr>\n",
       "    <tr>\n",
       "      <th>1896</th>\n",
       "      <td>19421</td>\n",
       "      <td>Free Beginner Electric Guitar Lessons</td>\n",
       "      <td>https://www.udemy.com/beginner-electric-guitar...</td>\n",
       "      <td>False</td>\n",
       "      <td>0</td>\n",
       "      <td>101154</td>\n",
       "      <td>1042</td>\n",
       "      <td>95</td>\n",
       "      <td>Beginner Level</td>\n",
       "      <td>4.5</td>\n",
       "      <td>2012-06-15 17:00:33+00:00</td>\n",
       "      <td>Musical Instruments</td>\n",
       "    </tr>\n",
       "    <tr>\n",
       "      <th>2589</th>\n",
       "      <td>473160</td>\n",
       "      <td>Web Design for Web Developers: Build Beautiful...</td>\n",
       "      <td>https://www.udemy.com/web-design-secrets/</td>\n",
       "      <td>False</td>\n",
       "      <td>0</td>\n",
       "      <td>98867</td>\n",
       "      <td>6512</td>\n",
       "      <td>20</td>\n",
       "      <td>All Levels</td>\n",
       "      <td>3.0</td>\n",
       "      <td>2015-04-13 18:29:47+00:00</td>\n",
       "      <td>Web Development</td>\n",
       "    </tr>\n",
       "    <tr>\n",
       "      <th>2619</th>\n",
       "      <td>94430</td>\n",
       "      <td>Learn Javascript &amp; JQuery From Scratch</td>\n",
       "      <td>https://www.udemy.com/learn-javascript-jquery-...</td>\n",
       "      <td>True</td>\n",
       "      <td>30</td>\n",
       "      <td>84897</td>\n",
       "      <td>2685</td>\n",
       "      <td>10</td>\n",
       "      <td>All Levels</td>\n",
       "      <td>2.0</td>\n",
       "      <td>2013-10-10 15:19:29+00:00</td>\n",
       "      <td>Web Development</td>\n",
       "    </tr>\n",
       "    <tr>\n",
       "      <th>3289</th>\n",
       "      <td>130064</td>\n",
       "      <td>Practical PHP: Master the Basics and Code Dyna...</td>\n",
       "      <td>https://www.udemy.com/code-dynamic-websites/</td>\n",
       "      <td>False</td>\n",
       "      <td>0</td>\n",
       "      <td>83737</td>\n",
       "      <td>4598</td>\n",
       "      <td>45</td>\n",
       "      <td>All Levels</td>\n",
       "      <td>6.5</td>\n",
       "      <td>2014-07-19 03:02:05+00:00</td>\n",
       "      <td>Web Development</td>\n",
       "    </tr>\n",
       "    <tr>\n",
       "      <th>3247</th>\n",
       "      <td>364426</td>\n",
       "      <td>JavaScript: Understanding the Weird Parts</td>\n",
       "      <td>https://www.udemy.com/understand-javascript/</td>\n",
       "      <td>True</td>\n",
       "      <td>175</td>\n",
       "      <td>79612</td>\n",
       "      <td>16976</td>\n",
       "      <td>85</td>\n",
       "      <td>All Levels</td>\n",
       "      <td>11.5</td>\n",
       "      <td>2015-03-12 23:19:54+00:00</td>\n",
       "      <td>Web Development</td>\n",
       "    </tr>\n",
       "  </tbody>\n",
       "</table>\n",
       "</div>"
      ],
      "text/plain": [
       "      course_id                                       course_title  \\\n",
       "2827      41295               Learn HTML5 Programming From Scratch   \n",
       "3032      59014                     Coding for Entrepreneurs Basic   \n",
       "3230     625204                         The Web Developer Bootcamp   \n",
       "2783     173548  Build Your First Website in 1 Week with HTML5 ...   \n",
       "3232     764164              The Complete Web Developer Course 2.0   \n",
       "1896      19421              Free Beginner Electric Guitar Lessons   \n",
       "2589     473160  Web Design for Web Developers: Build Beautiful...   \n",
       "2619      94430             Learn Javascript & JQuery From Scratch   \n",
       "3289     130064  Practical PHP: Master the Basics and Code Dyna...   \n",
       "3247     364426          JavaScript: Understanding the Weird Parts   \n",
       "\n",
       "                                                    url  is_paid  price  \\\n",
       "2827  https://www.udemy.com/learn-html5-programming-...    False      0   \n",
       "3032  https://www.udemy.com/coding-for-entrepreneurs...    False      0   \n",
       "3230  https://www.udemy.com/the-web-developer-bootcamp/     True    200   \n",
       "2783  https://www.udemy.com/build-your-first-website...    False      0   \n",
       "3232  https://www.udemy.com/the-complete-web-develop...     True    200   \n",
       "1896  https://www.udemy.com/beginner-electric-guitar...    False      0   \n",
       "2589          https://www.udemy.com/web-design-secrets/    False      0   \n",
       "2619  https://www.udemy.com/learn-javascript-jquery-...     True     30   \n",
       "3289       https://www.udemy.com/code-dynamic-websites/    False      0   \n",
       "3247       https://www.udemy.com/understand-javascript/     True    175   \n",
       "\n",
       "      num_subscribers  num_reviews  num_lectures           level  \\\n",
       "2827           268923         8629            45      All Levels   \n",
       "3032           161029          279            27  Beginner Level   \n",
       "3230           121584        27445           342      All Levels   \n",
       "2783           120291         5924            30  Beginner Level   \n",
       "3232           114512        22412           304      All Levels   \n",
       "1896           101154         1042            95  Beginner Level   \n",
       "2589            98867         6512            20      All Levels   \n",
       "2619            84897         2685            10      All Levels   \n",
       "3289            83737         4598            45      All Levels   \n",
       "3247            79612        16976            85      All Levels   \n",
       "\n",
       "      content_duration       published_timestamp              subject  \n",
       "2827              10.5 2013-02-14 07:03:41+00:00      Web Development  \n",
       "3032               3.5 2013-06-09 15:51:55+00:00      Web Development  \n",
       "3230              43.0 2015-11-02 21:13:27+00:00      Web Development  \n",
       "2783               3.0 2014-04-08 16:21:30+00:00      Web Development  \n",
       "3232              30.5 2016-03-08 22:28:36+00:00      Web Development  \n",
       "1896               4.5 2012-06-15 17:00:33+00:00  Musical Instruments  \n",
       "2589               3.0 2015-04-13 18:29:47+00:00      Web Development  \n",
       "2619               2.0 2013-10-10 15:19:29+00:00      Web Development  \n",
       "3289               6.5 2014-07-19 03:02:05+00:00      Web Development  \n",
       "3247              11.5 2015-03-12 23:19:54+00:00      Web Development  "
      ]
     },
     "execution_count": 95,
     "metadata": {},
     "output_type": "execute_result"
    }
   ],
   "source": [
    "top_10"
   ]
  },
  {
   "cell_type": "code",
   "execution_count": 97,
   "metadata": {
    "scrolled": true
   },
   "outputs": [
    {
     "data": {
      "text/plain": [
       "<AxesSubplot:xlabel='num_subscribers', ylabel='course_title'>"
      ]
     },
     "execution_count": 97,
     "metadata": {},
     "output_type": "execute_result"
    },
    {
     "data": {
      "image/png": "[encoded data removed]",
      "text/plain": [
       "<Figure size 432x288 with 1 Axes>"
      ]
     },
     "metadata": {
      "needs_background": "light"
     },
     "output_type": "display_data"
    }
   ],
   "source": [
    "sns.barplot(x=\"num_subscribers\",y='course_title',data=top_10)"
   ]
  },
  {
   "cell_type": "markdown",
   "metadata": {},
   "source": [
    "15) Highest Number of Reviews"
   ]
  },
  {
   "cell_type": "code",
   "execution_count": 101,
   "metadata": {},
   "outputs": [
    {
     "data": {
      "text/plain": [
       "<AxesSubplot:xlabel='subject', ylabel='num_reviews'>"
      ]
     },
     "execution_count": 101,
     "metadata": {},
     "output_type": "execute_result"
    },
    {
     "data": {
      "image/png": "[encoded data removed]",
      "text/plain": [
       "<Figure size 720x144 with 1 Axes>"
      ]
     },
     "metadata": {
      "needs_background": "light"
     },
     "output_type": "display_data"
    }
   ],
   "source": [
    "plt.figure(figsize=(10,2))\n",
    "sns.barplot(x='subject',y='num_reviews',data=data)"
   ]
  },
  {
   "cell_type": "markdown",
   "metadata": {},
   "source": [
    "16) Does Price Affect the Number of Reviews?"
   ]
  },
  {
   "cell_type": "code",
   "execution_count": 103,
   "metadata": {},
   "outputs": [
    {
     "data": {
      "text/plain": [
       "<AxesSubplot:xlabel='price', ylabel='num_reviews'>"
      ]
     },
     "execution_count": 103,
     "metadata": {},
     "output_type": "execute_result"
    },
    {
     "data": {
      "image/png": "[encoded data removed]",
      "text/plain": [
       "<Figure size 1080x216 with 1 Axes>"
      ]
     },
     "metadata": {
      "needs_background": "light"
     },
     "output_type": "display_data"
    }
   ],
   "source": [
    "plt.figure(figsize=(15,3))\n",
    "sns.scatterplot(x='price',y='num_reviews',data=data)"
   ]
  },
  {
   "cell_type": "markdown",
   "metadata": {},
   "source": [
    "17) Find Total Number of Courses Related To Python"
   ]
  },
  {
   "cell_type": "code",
   "execution_count": 105,
   "metadata": {},
   "outputs": [
    {
     "data": {
      "text/plain": [
       "Index(['course_id', 'course_title', 'url', 'is_paid', 'price',\n",
       "       'num_subscribers', 'num_reviews', 'num_lectures', 'level',\n",
       "       'content_duration', 'published_timestamp', 'subject'],\n",
       "      dtype='object')"
      ]
     },
     "execution_count": 105,
     "metadata": {},
     "output_type": "execute_result"
    }
   ],
   "source": [
    "data.columns"
   ]
  },
  {
   "cell_type": "code",
   "execution_count": 108,
   "metadata": {},
   "outputs": [
    {
     "data": {
      "text/plain": [
       "29"
      ]
     },
     "execution_count": 108,
     "metadata": {},
     "output_type": "execute_result"
    }
   ],
   "source": [
    "len(data[data['course_title'].str.contains('python',case=False)])"
   ]
  },
  {
   "cell_type": "markdown",
   "metadata": {},
   "source": [
    "18) Display 10 Most Popular Python Courses As Per Number of Subscribers"
   ]
  },
  {
   "cell_type": "code",
   "execution_count": 115,
   "metadata": {},
   "outputs": [],
   "source": [
    "python = data[data['course_title'].str.contains('python',case=False)].sort_values(by='num_subscribers',ascending=False).head(10)"
   ]
  },
  {
   "cell_type": "code",
   "execution_count": 116,
   "metadata": {},
   "outputs": [
    {
     "data": {
      "text/plain": [
       "<AxesSubplot:xlabel='num_subscribers', ylabel='course_title'>"
      ]
     },
     "execution_count": 116,
     "metadata": {},
     "output_type": "execute_result"
    },
    {
     "data": {
      "image/png": "[encoded data removed]",
      "text/plain": [
       "<Figure size 432x288 with 1 Axes>"
      ]
     },
     "metadata": {
      "needs_background": "light"
     },
     "output_type": "display_data"
    }
   ],
   "source": [
    "sns.barplot(x='num_subscribers',y='course_title',data=python)"
   ]
  },
  {
   "cell_type": "markdown",
   "metadata": {},
   "source": [
    "19) In Which Year The Highest Number of Courses Were Posted?"
   ]
  },
  {
   "cell_type": "code",
   "execution_count": 119,
   "metadata": {},
   "outputs": [],
   "source": [
    "data['Year'] = data['published_timestamp'].dt.year"
   ]
  },
  {
   "cell_type": "code",
   "execution_count": 121,
   "metadata": {},
   "outputs": [
    {
     "data": {
      "text/html": [
       "<div>\n",
       "<style scoped>\n",
       "    .dataframe tbody tr th:only-of-type {\n",
       "        vertical-align: middle;\n",
       "    }\n",
       "\n",
       "    .dataframe tbody tr th {\n",
       "        vertical-align: top;\n",
       "    }\n",
       "\n",
       "    .dataframe thead th {\n",
       "        text-align: right;\n",
       "    }\n",
       "</style>\n",
       "<table border=\"1\" class=\"dataframe\">\n",
       "  <thead>\n",
       "    <tr style=\"text-align: right;\">\n",
       "      <th></th>\n",
       "      <th>course_id</th>\n",
       "      <th>course_title</th>\n",
       "      <th>url</th>\n",
       "      <th>is_paid</th>\n",
       "      <th>price</th>\n",
       "      <th>num_subscribers</th>\n",
       "      <th>num_reviews</th>\n",
       "      <th>num_lectures</th>\n",
       "      <th>level</th>\n",
       "      <th>content_duration</th>\n",
       "      <th>published_timestamp</th>\n",
       "      <th>subject</th>\n",
       "      <th>Year</th>\n",
       "    </tr>\n",
       "  </thead>\n",
       "  <tbody>\n",
       "    <tr>\n",
       "      <th>0</th>\n",
       "      <td>1070968</td>\n",
       "      <td>Ultimate Investment Banking Course</td>\n",
       "      <td>https://www.udemy.com/ultimate-investment-bank...</td>\n",
       "      <td>True</td>\n",
       "      <td>200</td>\n",
       "      <td>2147</td>\n",
       "      <td>23</td>\n",
       "      <td>51</td>\n",
       "      <td>All Levels</td>\n",
       "      <td>1.5</td>\n",
       "      <td>2017-01-18 20:58:58+00:00</td>\n",
       "      <td>Business Finance</td>\n",
       "      <td>2017</td>\n",
       "    </tr>\n",
       "  </tbody>\n",
       "</table>\n",
       "</div>"
      ],
      "text/plain": [
       "   course_id                        course_title  \\\n",
       "0    1070968  Ultimate Investment Banking Course   \n",
       "\n",
       "                                                 url  is_paid  price  \\\n",
       "0  https://www.udemy.com/ultimate-investment-bank...     True    200   \n",
       "\n",
       "   num_subscribers  num_reviews  num_lectures       level  content_duration  \\\n",
       "0             2147           23            51  All Levels               1.5   \n",
       "\n",
       "        published_timestamp           subject  Year  \n",
       "0 2017-01-18 20:58:58+00:00  Business Finance  2017  "
      ]
     },
     "execution_count": 121,
     "metadata": {},
     "output_type": "execute_result"
    }
   ],
   "source": [
    "data.head(1)"
   ]
  },
  {
   "cell_type": "code",
   "execution_count": 122,
   "metadata": {},
   "outputs": [
    {
     "name": "stderr",
     "output_type": "stream",
     "text": [
      "C:\\Users\\zachb\\anaconda3\\lib\\site-packages\\seaborn\\_decorators.py:36: FutureWarning: Pass the following variable as a keyword arg: x. From version 0.12, the only valid positional argument will be `data`, and passing other arguments without an explicit keyword will result in an error or misinterpretation.\n",
      "  warnings.warn(\n"
     ]
    },
    {
     "data": {
      "text/plain": [
       "<AxesSubplot:xlabel='Year', ylabel='count'>"
      ]
     },
     "execution_count": 122,
     "metadata": {},
     "output_type": "execute_result"
    },
    {
     "data": {
      "image/png": "[encoded data removed]",
      "text/plain": [
       "<Figure size 432x288 with 1 Axes>"
      ]
     },
     "metadata": {
      "needs_background": "light"
     },
     "output_type": "display_data"
    }
   ],
   "source": [
    "sns.countplot('Year',data=data)"
   ]
  },
  {
   "cell_type": "markdown",
   "metadata": {},
   "source": [
    "20) Display Category-Wise Count of Posted Subjects [Year Wise] "
   ]
  },
  {
   "cell_type": "code",
   "execution_count": 124,
   "metadata": {},
   "outputs": [
    {
     "data": {
      "text/plain": [
       "Year  subject            \n",
       "2011  Web Development          5\n",
       "2012  Web Development         19\n",
       "      Graphic Design          10\n",
       "      Musical Instruments     10\n",
       "      Business Finance         6\n",
       "2013  Business Finance        84\n",
       "      Web Development         55\n",
       "      Musical Instruments     39\n",
       "      Graphic Design          23\n",
       "2014  Business Finance       192\n",
       "      Musical Instruments    120\n",
       "      Web Development        113\n",
       "      Graphic Design          65\n",
       "2015  Business Finance       339\n",
       "      Web Development        336\n",
       "      Musical Instruments    171\n",
       "      Graphic Design         168\n",
       "2016  Web Development        448\n",
       "      Business Finance       347\n",
       "      Musical Instruments    228\n",
       "      Graphic Design         181\n",
       "2017  Business Finance       223\n",
       "      Web Development        223\n",
       "      Graphic Design         155\n",
       "      Musical Instruments    112\n",
       "Name: subject, dtype: int64"
      ]
     },
     "execution_count": 124,
     "metadata": {},
     "output_type": "execute_result"
    }
   ],
   "source": [
    "data.groupby('Year')['subject'].value_counts()"
   ]
  },
  {
   "cell_type": "code",
   "execution_count": null,
   "metadata": {},
   "outputs": [],
   "source": []
  }
 ],
 "metadata": {
  "kernelspec": {
   "display_name": "Python 3",
   "language": "python",
   "name": "python3"
  },
  "language_info": {
   "codemirror_mode": {
    "name": "ipython",
    "version": 3
   },
   "file_extension": ".py",
   "mimetype": "text/x-python",
   "name": "python",
   "nbconvert_exporter": "python",
   "pygments_lexer": "ipython3",
   "version": "3.8.5"
  }
 },
 "nbformat": 4,
 "nbformat_minor": 4
}
